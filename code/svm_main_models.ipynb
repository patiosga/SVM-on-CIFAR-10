{
 "cells": [
  {
   "cell_type": "code",
   "execution_count": 23,
   "metadata": {},
   "outputs": [
    {
     "name": "stdout",
     "output_type": "stream",
     "text": [
      "c:\\Users\\giorg\\OneDrive\\Έγγραφα\\Σχολή\\7ο εξάμηνο\\Νευρωνικά Δίκτυα\\SVM on CIFAR-10\n"
     ]
    }
   ],
   "source": [
    "import os\n",
    "# os.chdir('./code')\n",
    "os.chdir('../')\n",
    "print(os.getcwd())"
   ]
  },
  {
   "cell_type": "code",
   "execution_count": 14,
   "metadata": {},
   "outputs": [],
   "source": [
    "from sklearn.svm import SVC\n",
    "from sklearn.multiclass import OneVsOneClassifier\n",
    "from sklearn.model_selection import train_test_split\n",
    "# Ensure read_data.py is in the same directory or provide the correct path\n",
    "try:\n",
    "\tfrom read_data import read_data, read_test_data\n",
    "except ModuleNotFoundError:\n",
    "\tprint(\"Module read_data not found. Please ensure read_data.py is in the working directory.\")\n",
    "from scaler import MyScaler\n",
    "from accuracy_metrics import cls_report, accuracy\n",
    "import time\n",
    "import numpy as np\n",
    "import matplotlib.pyplot as plt"
   ]
  },
  {
   "cell_type": "code",
   "execution_count": 20,
   "metadata": {},
   "outputs": [],
   "source": [
    "def test_svm(X_train, X_train_pca, X_train_umap, y_train, X_test, X_test_pca, X_test_umap, y_test, kernel='rbf', C=1.0, gamma='scale', deg=1):\n",
    "    accuracy_values = {'og': -1, 'pca': -1, 'umap': -1}\n",
    "\n",
    "    # create the model - PCA data\n",
    "    print('Creating pca model')\n",
    "    start = time.time()\n",
    "    if kernel == 'rbf':\n",
    "        model_pca = SVC(kernel=kernel, C=C, gamma=gamma)\n",
    "    else:\n",
    "        model_pca = SVC(kernel=kernel, C=C, degree=deg)\n",
    "    print(model_pca.fit(X_train_pca, y_train))\n",
    "    print(\"Time taken: \", time.time()-start)  \n",
    "    print('Model trained on PCA data')\n",
    "    # test the model\n",
    "    accuracy_values['pca'] = model_pca.score(X_test_pca, y_test)\n",
    "    print('Accuracy PCA: ', accuracy_values['pca'])\n",
    "\n",
    "    # create the model - UMAP data\n",
    "    print('Creating umap model')\n",
    "    start = time.time()\n",
    "    if kernel == 'rbf':\n",
    "        model_umap = SVC(kernel=kernel, C=C, gamma=gamma)\n",
    "    else:\n",
    "        model_umap = SVC(kernel=kernel, C=C, degree=deg)\n",
    "    print(model_umap.fit(X_train_umap, y_train))\n",
    "    print(\"Time taken: \", time.time()-start)  \n",
    "    print('Model trained on UMAP data')\n",
    "    # test the model\n",
    "    accuracy_values['umap'] = model_umap.score(X_test_umap, y_test)\n",
    "    print('Accuracy UMAP: ', accuracy_values['umap'])\n",
    "\n",
    "    # create the model - original data\n",
    "    print('Creating og model')\n",
    "    start = time.time()\n",
    "    if kernel == 'rbf':\n",
    "        model_og = SVC(kernel=kernel, C=C, gamma=gamma)\n",
    "    else:\n",
    "        model_og = SVC(kernel=kernel, C=C, degree=deg)\n",
    "    print(model_og.fit(X_train, y_train))\n",
    "    print(\"Time taken: \", time.time()-start)\n",
    "    print('Model trained on original data')\n",
    "    # test the model\n",
    "    accuracy_values['og'] = model_og.score(X_test, y_test)\n",
    "    print('Accuracy OG: ', accuracy_values['og'])\n",
    "\n",
    "    return accuracy_values"
   ]
  },
  {
   "cell_type": "code",
   "execution_count": 17,
   "metadata": {},
   "outputs": [
    {
     "name": "stdout",
     "output_type": "stream",
     "text": [
      "Data loaded\n"
     ]
    }
   ],
   "source": [
    "# load the scaler\n",
    "scaler: MyScaler = MyScaler.load_scaler('scaler.pkl')\n",
    "# load the data\n",
    "X_train, y_train = read_data()\n",
    "# normalize the data\n",
    "X_train = scaler.normalize_data(X_train)\n",
    "print('Data loaded')"
   ]
  },
  {
   "cell_type": "code",
   "execution_count": 24,
   "metadata": {},
   "outputs": [
    {
     "name": "stdout",
     "output_type": "stream",
     "text": [
      "Data preprocessed\n"
     ]
    }
   ],
   "source": [
    "# split the data\n",
    "X_train, _, y_train, _ = train_test_split(X_train, y_train, test_size=0.2, random_state=42, stratify=y_train)\n",
    "# perform PCA\n",
    "X_train_pca = scaler.pca_decomposition(X_train)\n",
    "# perform UMAP\n",
    "X_train_umap = scaler.umap_decomposition(X_train)\n",
    "# load the test data\n",
    "X_test, y_test = read_test_data()\n",
    "# normalize the test data\n",
    "X_test = scaler.normalize_data(X_test)\n",
    "# perform PCA on the test data\n",
    "X_test_pca = scaler.pca_decomposition(X_test)\n",
    "# perform UMAP on the test data\n",
    "X_test_umap = scaler.umap_decomposition(X_test)\n",
    "print('Data preprocessed')"
   ]
  },
  {
   "cell_type": "code",
   "execution_count": 25,
   "metadata": {},
   "outputs": [
    {
     "name": "stdout",
     "output_type": "stream",
     "text": [
      "Creating pca model\n",
      "SVC(degree=1, kernel='poly')\n",
      "Time taken:  1.8539865016937256\n",
      "Model trained on PCA data\n",
      "Accuracy PCA:  0.8605\n",
      "Creating umap model\n",
      "SVC(degree=1, kernel='poly')\n",
      "Time taken:  0.7488670349121094\n",
      "Model trained on UMAP data\n",
      "Accuracy UMAP:  0.804\n",
      "Creating og model\n",
      "SVC(degree=1, kernel='poly')\n",
      "Time taken:  21.4895601272583\n",
      "Model trained on original data\n",
      "Accuracy OG:  0.8635\n"
     ]
    }
   ],
   "source": [
    "linear_scores = test_svm(X_train, X_train_pca, X_train_umap, y_train, X_test, X_test_pca, X_test_umap, y_test, kernel='poly', C=1.0, deg=1)"
   ]
  },
  {
   "cell_type": "code",
   "execution_count": 26,
   "metadata": {},
   "outputs": [
    {
     "name": "stdout",
     "output_type": "stream",
     "text": [
      "Creating pca model\n",
      "SVC(kernel='poly')\n",
      "Time taken:  2.167231559753418\n",
      "Model trained on PCA data\n",
      "Accuracy PCA:  0.876\n",
      "Creating umap model\n",
      "SVC(kernel='poly')\n",
      "Time taken:  1.3908240795135498\n",
      "Model trained on UMAP data\n",
      "Accuracy UMAP:  0.825\n",
      "Creating og model\n",
      "SVC(kernel='poly')\n",
      "Time taken:  33.518659353256226\n",
      "Model trained on original data\n",
      "Accuracy OG:  0.8765\n"
     ]
    }
   ],
   "source": [
    "poly_scores_3 = test_svm(X_train, X_train_pca, X_train_umap, y_train, X_test, X_test_pca, X_test_umap, y_test, kernel='poly', C=1.0, deg=3)"
   ]
  },
  {
   "cell_type": "code",
   "execution_count": 27,
   "metadata": {},
   "outputs": [
    {
     "name": "stdout",
     "output_type": "stream",
     "text": [
      "Creating pca model\n",
      "SVC(degree=5, kernel='poly')\n",
      "Time taken:  3.464887857437134\n",
      "Model trained on PCA data\n",
      "Accuracy PCA:  0.859\n",
      "Creating umap model\n",
      "SVC(degree=5, kernel='poly')\n",
      "Time taken:  46.39809441566467\n",
      "Model trained on UMAP data\n",
      "Accuracy UMAP:  0.834\n",
      "Creating og model\n",
      "SVC(degree=5, kernel='poly')\n",
      "Time taken:  38.27379631996155\n",
      "Model trained on original data\n",
      "Accuracy OG:  0.861\n"
     ]
    }
   ],
   "source": [
    "poly_scores_5 = test_svm(X_train, X_train_pca, X_train_umap, y_train, X_test, X_test_pca, X_test_umap, y_test, kernel='poly', C=1.0, deg=5)"
   ]
  },
  {
   "cell_type": "code",
   "execution_count": 28,
   "metadata": {},
   "outputs": [
    {
     "name": "stdout",
     "output_type": "stream",
     "text": [
      "Creating pca model\n",
      "SVC(gamma=0.001)\n",
      "Time taken:  4.0455992221832275\n",
      "Model trained on PCA data\n",
      "Accuracy PCA:  0.9175\n",
      "Creating umap model\n",
      "SVC(gamma=0.001)\n",
      "Time taken:  1.041856050491333\n",
      "Model trained on UMAP data\n",
      "Accuracy UMAP:  0.795\n",
      "Creating og model\n",
      "SVC(gamma=0.001)\n",
      "Time taken:  42.73950815200806\n",
      "Model trained on original data\n",
      "Accuracy OG:  0.912\n"
     ]
    }
   ],
   "source": [
    "rbf_scores = test_svm(X_train, X_train_pca, X_train_umap, y_train, X_test, X_test_pca, X_test_umap, y_test, kernel='rbf', C=1.0, gamma=0.001)  # hyperparameters decided by grid search"
   ]
  },
  {
   "cell_type": "code",
   "execution_count": 29,
   "metadata": {},
   "outputs": [
    {
     "name": "stdout",
     "output_type": "stream",
     "text": [
      "RBF scores:  {'og': 0.912, 'pca': 0.9175, 'umap': 0.795}\n",
      "Linear scores:  {'og': 0.8635, 'pca': 0.8605, 'umap': 0.804}\n",
      "Poly scores (degree=3):  {'og': 0.8765, 'pca': 0.876, 'umap': 0.825}\n",
      "Poly scores (degree=5):  {'og': 0.861, 'pca': 0.859, 'umap': 0.834}\n"
     ]
    }
   ],
   "source": [
    "print('RBF scores: ', rbf_scores)\n",
    "print('Linear scores: ', linear_scores)\n",
    "print('Poly scores (degree=3): ', poly_scores_3)\n",
    "print('Poly scores (degree=5): ', poly_scores_5)"
   ]
  },
  {
   "cell_type": "code",
   "execution_count": null,
   "metadata": {},
   "outputs": [],
   "source": []
  },
  {
   "cell_type": "code",
   "execution_count": 30,
   "metadata": {},
   "outputs": [
    {
     "data": {
      "image/png": "[encoded data removed]",
      "text/plain": [
       "<Figure size 1000x600 with 1 Axes>"
      ]
     },
     "metadata": {},
     "output_type": "display_data"
    }
   ],
   "source": [
    "# Plot the accuracy values\n",
    "labels = ['Original', 'PCA', 'UMAP']\n",
    "rbf_scores_list = [rbf_scores['og'], rbf_scores['pca'], rbf_scores['umap']]\n",
    "linear_scores_list = [linear_scores['og'], linear_scores['pca'], linear_scores['umap']]\n",
    "poly_scores_3_list = [poly_scores_3['og'], poly_scores_3['pca'], poly_scores_3['umap']]\n",
    "poly_scores_5_list = [poly_scores_5['og'], poly_scores_5['pca'], poly_scores_5['umap']]\n",
    "\n",
    "x = range(len(labels))\n",
    "\n",
    "plt.figure(figsize=(10, 6))\n",
    "plt.bar(x, rbf_scores_list, width=0.2, label='RBF', align='center')\n",
    "plt.bar([p + 0.2 for p in x], linear_scores_list, width=0.2, label='Linear', align='center')\n",
    "plt.bar([p + 0.4 for p in x], poly_scores_3_list, width=0.2, label='Poly (deg=3)', align='center')\n",
    "plt.bar([p + 0.6 for p in x], poly_scores_5_list, width=0.2, label='Poly (deg=5)', align='center')\n",
    "\n",
    "plt.xlabel('Data Type')\n",
    "plt.ylabel('Accuracy')\n",
    "plt.title('Model Accuracy Comparison')\n",
    "plt.xticks([p + 0.3 for p in x], labels)\n",
    "plt.ylim(0.72, 1)\n",
    "plt.legend()\n",
    "plt.show()"
   ]
  }
 ],
 "metadata": {
  "kernelspec": {
   "display_name": "base",
   "language": "python",
   "name": "python3"
  },
  "language_info": {
   "codemirror_mode": {
    "name": "ipython",
    "version": 3
   },
   "file_extension": ".py",
   "mimetype": "text/x-python",
   "name": "python",
   "nbconvert_exporter": "python",
   "pygments_lexer": "ipython3",
   "version": "3.12.3"
  }
 },
 "nbformat": 4,
 "nbformat_minor": 2
}
